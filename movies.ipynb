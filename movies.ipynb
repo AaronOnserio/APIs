{
  "nbformat": 4,
  "nbformat_minor": 0,
  "metadata": {
    "colab": {
      "provenance": [],
      "gpuType": "T4",
      "include_colab_link": true
    },
    "kernelspec": {
      "name": "python3",
      "display_name": "Python 3"
    },
    "language_info": {
      "name": "python"
    }
  },
  "cells": [
    {
      "cell_type": "markdown",
      "metadata": {
        "id": "view-in-github",
        "colab_type": "text"
      },
      "source": [
        "<a href=\"https://colab.research.google.com/github/AaronOnserio/APIs/blob/master/movies.ipynb\" target=\"_parent\"><img src=\"https://colab.research.google.com/assets/colab-badge.svg\" alt=\"Open In Colab\"/></a>"
      ]
    },
    {
      "cell_type": "markdown",
      "source": [
        "# Collaborative Filtering\n",
        "\n",
        "Collaborative Filtering stands as the prevailing approach utilized in the construction of intelligent recommendation systems, enabling them to enhance their recommendations as they gather more user information.\n",
        "\n",
        "Collaborative Filtering is a widely employed technique in advanced recommendation systems, employed by prominent platforms such as Amazon, YouTube, and Netflix. It allows the development of recommenders that suggest items to users based on the preferences and dispositions of similar users."
      ],
      "metadata": {
        "id": "ZEzY1LwQwgF-"
      }
    },
    {
      "cell_type": "code",
      "execution_count": null,
      "metadata": {
        "id": "4sZW6GlrwVHp"
      },
      "outputs": [],
      "source": [
        "import pandas as pd \n",
        "import numpy as np \n",
        "import matplotlib.pyplot as plt \n",
        "import seaborn as sns \n",
        "\n",
        "import zipfile\n",
        "from scipy import sparse\n",
        "from scipy.sparse import csr_matrix\n",
        "from sklearn.metrics.pairwise import cosine_similarity"
      ]
    },
    {
      "cell_type": "markdown",
      "source": [
        "## Objectives "
      ],
      "metadata": {
        "id": "M_evEU2-54kF"
      }
    },
    {
      "cell_type": "markdown",
      "source": [
        "## What is Collaborative Filtering?\n",
        "\n",
        "Collaborative filtering is a technique used in recommendation systems to provide personalized recommendations to users based on their preferences and behaviors. It assumes that users who have similar tastes and preferences in the past will have similar tastes in the future. \n",
        "\n",
        "Involves searching through a large user group to identify a subset of users who share similar tastes with a specific user. It examines the items they have show interest in and combines this information to generate a ranked list of recommendations.\n",
        "\n",
        "### Types of Collaborative Filtering:\n",
        "\n",
        "1. **User-Based Collaborative filtering**: - This method recommends items to a user based on the preferences of users who are similar to them. It identifies users who have similar ratings or behavior and suggests items that these similar users have liked or interacted with.\n",
        "\n",
        "2. **Item-based Collaborative filtering**: - This approach recommends items to a user based on the similarity between items themselves. It analyzes the ratings and interactions of users with different items and identifies items that are frequently liked or interacted with by users who have also liked or interacted with the target item.\n",
        "\n",
        "Both rely on collecting and analyzing large amounts of data about user preferences, such as ratings,reviews, or purchase history to generate accurate recommendations."
      ],
      "metadata": {
        "id": "APjWeZ_i6OTu"
      }
    },
    {
      "cell_type": "markdown",
      "source": [
        "## Data \n",
        "\n",
        "In order to conduct experiments with recommendation algorithms, it is necessary to have a dataset that includes a **collection of items** and a **group of users** who have **interacted** with some of those items. \n",
        "\n",
        "1. **User Data**: - Recommendation systems rely on user information to understand their preference and behaviors. This can include data such as user profiles, demographic information, past interactions, ratings, reviews, purchase history, and explicit feedback e.g, likes and dislikes.\n",
        "2. **Item Data**: - Information about the items being recommended is crucial. This can include attributes such as items descriptions, metadata, categories, genres, release dates, popularity, and any relevant features specific to the domain e.g, artist for music, director for movies.\n",
        "3. **interaction data**: - Tracking user interactions with items is essential for collaborative filtering and other recommendation techniques. The user reactions in a recommendation dataset can be categorized into two types:\n",
        ">>* **Explicit Reactions**: - User feedback that is directly provided and indicates a clear preference or rating for an item. This can include ratings given on a scale e.g., 1 to 5 stars, likes or dislikes (thumbs up or thumbs down) or any other explicit indication of user preference for an item.\n",
        ">>* **Implicit Reactions**: - Involve user behaviors or actions that indirectly reflect their preference without explicit feedback. These reactions are derived from user interactions with the items or the system itself. Examples including viewing an item, adding it to a wish list, saving it for later, spending a significant amount of item reading an article or watching a video, or any other user activity that suggests interest or engagement with the item. "
      ],
      "metadata": {
        "id": "Cz0Z4QwT_gw2"
      }
    },
    {
      "cell_type": "markdown",
      "source": [
        "<details>\n",
        "<summary> 📝 </summary>\n",
        "Implicit reactions are inferred from user actions rather than being directly provided by the user. These actions may be tracked and recorded by the recommendation system to capture user preferences and behavior patterns.\n",
        "</details>"
      ],
      "metadata": {
        "id": "1G9XYog5KwXa"
      }
    },
    {
      "cell_type": "markdown",
      "source": [
        "Other important considerations:\n",
        "\n",
        "4. **Contextual Data**: - Consider incorporating contextual data to enhance recommendations. This can include temporal information such as time of day, day of the week, geographic data, device information, and other relevant contextual factors.\n",
        "5. **Social Data**: - Incorporating social data can provide additional insights into user preferences. This includes information about a user's social network, social connections, and influence among peers.\n",
        "6 **Additional data sources**: - Depending on the domain and specific requirements, there may be additional data sources to consider e.g., in e-commerce, product attributes, inventory levels, pricing data, and promotional information may be relevant."
      ],
      "metadata": {
        "id": "LBgFJa7AKz6b"
      }
    },
    {
      "cell_type": "markdown",
      "source": [
        "When dealing with data in the context of recommendation systems, it is common to encounter it in the form of a matrix. This matrix represents the reactions provided by a group of users to a set of items. The structure of this matrix is as follows:\n",
        "\n",
        "1. **Rows**: - Each row in the matrix corresponds to a specific user. It represents the ratings or reactions given by that user to the various items in the dataset. \n",
        "2. **Columns**: - Each column in the matrix corresponds to a specific item. It represents the ratings or rections received by that item from different users.\n",
        "\n",
        "\n",
        ">>>>\n",
        "|       |${i_1}$|${i_2}$|${i_3}$|${i_4}$|${i_5}$|\n",
        "|:-----:|:-----:|:-----:|:-----:|:-----:|:-----:|\n",
        "|${u_1}$|4      |5      |       |3      |       |\n",
        "|${u_2}$|       |3      |4      |4      |       |\n",
        "|${u_3}$|       |4      |       |4      |4      |\n",
        "|${u_4}$|4      |5      |4      |       |       |\n",
        "|${u_5}$|5      |4      |3      |4      |2      |"
      ],
      "metadata": {
        "id": "reFwXXPmGS_o"
      }
    },
    {
      "cell_type": "markdown",
      "source": [
        "The matrix above represents:\n",
        "* Rows represent users, denoted as ${u_1}$, ${u_2}$, ${u_3}$, ${u_4}$, and ${u_5}$.\n",
        "* Columns represent items, denoted as ${i_1}$, ${i_2}$, ${i_3}$, ${i_4}$, and ${i_5}$.\n",
        "* Cells in the matrix indicate the reactions or ratings given by users to the corresponding items.\n",
        "* Blank cells indicate that the user did not provide a rating or reaction for that particular item."
      ],
      "metadata": {
        "id": "Srwglvy_J_3V"
      }
    },
    {
      "cell_type": "markdown",
      "source": [
        "It is common for the user-item interaction matrix to have most empty cells. This sparsity occurs because users typically rate or react to only a subset of the available items. As a result the matrix is considered **sparse**. \n",
        "\n",
        "A sparse matrix is characterized by a significant number of empty or missing values compared to the total number of possible entries in the matrix. The sparsity arises due to inherent nature of user-item interactions, where users have limited interactions with a vast number of items.\n",
        "\n",
        "Handling sparsity is a common challenge in recommendation systems. Various techniques such as ```matrix factorization```, ```neighborhood-based methods```, or ```advanced machine learning algorithms``` are employed to effectively generate recommendations despite the sparse nature of the user-item matrix. These techniques aim to predict or estimate missing ratings or reactions and provide personalized recommendations even when explicit data is missing for many user-item pairs. \n",
        "\n",
        "A **dense** matrix refers to a matrix rare in practice, as it would require every user to rate or react to every item, which is highly unlikely.\n"
      ],
      "metadata": {
        "id": "sSVt14uGLT21"
      }
    },
    {
      "cell_type": "markdown",
      "source": [
        "## Loading the data"
      ],
      "metadata": {
        "id": "TZ8MVeJC6KEp"
      }
    },
    {
      "cell_type": "code",
      "source": [
        "# uzip the archive.zip file \n",
        "with zipfile.ZipFile('/content/drive/MyDrive/Live Sessions/lectures/Phase 4/Recommendation System /Collaborative Filtering/archive.zip', 'r') as zip_ref:\n",
        "  zip_ref.extractall('/content/drive/MyDrive/Live Sessions/lectures/Phase 4/Recommendation System /Collaborative Filtering/data')\n"
      ],
      "metadata": {
        "id": "GEmQ4E6pwegx"
      },
      "execution_count": null,
      "outputs": []
    },
    {
      "cell_type": "code",
      "source": [
        "# load movies data \n",
        "movies = pd.read_csv('/content/drive/MyDrive/Live Sessions/lectures/Phase 4/Recommendation System /Collaborative Filtering/data/movies.csv')\n",
        "movies.head()"
      ],
      "metadata": {
        "colab": {
          "base_uri": "https://localhost:8080/",
          "height": 206
        },
        "id": "NIkK_FJLyFp7",
        "outputId": "2cc30e6d-b966-491a-eb62-ef9fb9df35f0"
      },
      "execution_count": null,
      "outputs": [
        {
          "output_type": "execute_result",
          "data": {
            "text/plain": [
              "   MovieId  ReleaseYear                    MovieTitle\n",
              "0        1       2003.0               Dinosaur Planet\n",
              "1        2       2004.0    Isle of Man TT 2004 Review\n",
              "2        3       1997.0                     Character\n",
              "3        4       1994.0  Paula Abdul's Get Up & Dance\n",
              "4        5       2004.0      The Rise and Fall of ECW"
            ],
            "text/html": [
              "\n",
              "  <div id=\"df-116c0202-88aa-494f-a03f-000fc00cb31c\">\n",
              "    <div class=\"colab-df-container\">\n",
              "      <div>\n",
              "<style scoped>\n",
              "    .dataframe tbody tr th:only-of-type {\n",
              "        vertical-align: middle;\n",
              "    }\n",
              "\n",
              "    .dataframe tbody tr th {\n",
              "        vertical-align: top;\n",
              "    }\n",
              "\n",
              "    .dataframe thead th {\n",
              "        text-align: right;\n",
              "    }\n",
              "</style>\n",
              "<table border=\"1\" class=\"dataframe\">\n",
              "  <thead>\n",
              "    <tr style=\"text-align: right;\">\n",
              "      <th></th>\n",
              "      <th>MovieId</th>\n",
              "      <th>ReleaseYear</th>\n",
              "      <th>MovieTitle</th>\n",
              "    </tr>\n",
              "  </thead>\n",
              "  <tbody>\n",
              "    <tr>\n",
              "      <th>0</th>\n",
              "      <td>1</td>\n",
              "      <td>2003.0</td>\n",
              "      <td>Dinosaur Planet</td>\n",
              "    </tr>\n",
              "    <tr>\n",
              "      <th>1</th>\n",
              "      <td>2</td>\n",
              "      <td>2004.0</td>\n",
              "      <td>Isle of Man TT 2004 Review</td>\n",
              "    </tr>\n",
              "    <tr>\n",
              "      <th>2</th>\n",
              "      <td>3</td>\n",
              "      <td>1997.0</td>\n",
              "      <td>Character</td>\n",
              "    </tr>\n",
              "    <tr>\n",
              "      <th>3</th>\n",
              "      <td>4</td>\n",
              "      <td>1994.0</td>\n",
              "      <td>Paula Abdul's Get Up &amp; Dance</td>\n",
              "    </tr>\n",
              "    <tr>\n",
              "      <th>4</th>\n",
              "      <td>5</td>\n",
              "      <td>2004.0</td>\n",
              "      <td>The Rise and Fall of ECW</td>\n",
              "    </tr>\n",
              "  </tbody>\n",
              "</table>\n",
              "</div>\n",
              "      <button class=\"colab-df-convert\" onclick=\"convertToInteractive('df-116c0202-88aa-494f-a03f-000fc00cb31c')\"\n",
              "              title=\"Convert this dataframe to an interactive table.\"\n",
              "              style=\"display:none;\">\n",
              "        \n",
              "  <svg xmlns=\"http://www.w3.org/2000/svg\" height=\"24px\"viewBox=\"0 0 24 24\"\n",
              "       width=\"24px\">\n",
              "    <path d=\"M0 0h24v24H0V0z\" fill=\"none\"/>\n",
              "    <path d=\"M18.56 5.44l.94 2.06.94-2.06 2.06-.94-2.06-.94-.94-2.06-.94 2.06-2.06.94zm-11 1L8.5 8.5l.94-2.06 2.06-.94-2.06-.94L8.5 2.5l-.94 2.06-2.06.94zm10 10l.94 2.06.94-2.06 2.06-.94-2.06-.94-.94-2.06-.94 2.06-2.06.94z\"/><path d=\"M17.41 7.96l-1.37-1.37c-.4-.4-.92-.59-1.43-.59-.52 0-1.04.2-1.43.59L10.3 9.45l-7.72 7.72c-.78.78-.78 2.05 0 2.83L4 21.41c.39.39.9.59 1.41.59.51 0 1.02-.2 1.41-.59l7.78-7.78 2.81-2.81c.8-.78.8-2.07 0-2.86zM5.41 20L4 18.59l7.72-7.72 1.47 1.35L5.41 20z\"/>\n",
              "  </svg>\n",
              "      </button>\n",
              "      \n",
              "  <style>\n",
              "    .colab-df-container {\n",
              "      display:flex;\n",
              "      flex-wrap:wrap;\n",
              "      gap: 12px;\n",
              "    }\n",
              "\n",
              "    .colab-df-convert {\n",
              "      background-color: #E8F0FE;\n",
              "      border: none;\n",
              "      border-radius: 50%;\n",
              "      cursor: pointer;\n",
              "      display: none;\n",
              "      fill: #1967D2;\n",
              "      height: 32px;\n",
              "      padding: 0 0 0 0;\n",
              "      width: 32px;\n",
              "    }\n",
              "\n",
              "    .colab-df-convert:hover {\n",
              "      background-color: #E2EBFA;\n",
              "      box-shadow: 0px 1px 2px rgba(60, 64, 67, 0.3), 0px 1px 3px 1px rgba(60, 64, 67, 0.15);\n",
              "      fill: #174EA6;\n",
              "    }\n",
              "\n",
              "    [theme=dark] .colab-df-convert {\n",
              "      background-color: #3B4455;\n",
              "      fill: #D2E3FC;\n",
              "    }\n",
              "\n",
              "    [theme=dark] .colab-df-convert:hover {\n",
              "      background-color: #434B5C;\n",
              "      box-shadow: 0px 1px 3px 1px rgba(0, 0, 0, 0.15);\n",
              "      filter: drop-shadow(0px 1px 2px rgba(0, 0, 0, 0.3));\n",
              "      fill: #FFFFFF;\n",
              "    }\n",
              "  </style>\n",
              "\n",
              "      <script>\n",
              "        const buttonEl =\n",
              "          document.querySelector('#df-116c0202-88aa-494f-a03f-000fc00cb31c button.colab-df-convert');\n",
              "        buttonEl.style.display =\n",
              "          google.colab.kernel.accessAllowed ? 'block' : 'none';\n",
              "\n",
              "        async function convertToInteractive(key) {\n",
              "          const element = document.querySelector('#df-116c0202-88aa-494f-a03f-000fc00cb31c');\n",
              "          const dataTable =\n",
              "            await google.colab.kernel.invokeFunction('convertToInteractive',\n",
              "                                                     [key], {});\n",
              "          if (!dataTable) return;\n",
              "\n",
              "          const docLinkHtml = 'Like what you see? Visit the ' +\n",
              "            '<a target=\"_blank\" href=https://colab.research.google.com/notebooks/data_table.ipynb>data table notebook</a>'\n",
              "            + ' to learn more about interactive tables.';\n",
              "          element.innerHTML = '';\n",
              "          dataTable['output_type'] = 'display_data';\n",
              "          await google.colab.output.renderOutput(dataTable, element);\n",
              "          const docLink = document.createElement('div');\n",
              "          docLink.innerHTML = docLinkHtml;\n",
              "          element.appendChild(docLink);\n",
              "        }\n",
              "      </script>\n",
              "    </div>\n",
              "  </div>\n",
              "  "
            ]
          },
          "metadata": {},
          "execution_count": 3
        }
      ]
    },
    {
      "cell_type": "code",
      "source": [
        "# load ratings data \n",
        "ratings = pd.read_csv('/content/drive/MyDrive/Live Sessions/lectures/Phase 4/Recommendation System /Collaborative Filtering/data/Netflix_User_Ratings.csv')\n",
        "ratings.head()"
      ],
      "metadata": {
        "colab": {
          "base_uri": "https://localhost:8080/",
          "height": 206
        },
        "id": "mMlWKCOhyWm2",
        "outputId": "1e45ff1b-d84c-4770-93d4-81cb02fe96d8"
      },
      "execution_count": null,
      "outputs": [
        {
          "output_type": "execute_result",
          "data": {
            "text/plain": [
              "    CustId  Rating        Date  MovieId\n",
              "0  1488844       3  2005-09-06        1\n",
              "1   822109       5  2005-05-13        1\n",
              "2   885013       4  2005-10-19        1\n",
              "3    30878       4  2005-12-26        1\n",
              "4   823519       3  2004-05-03        1"
            ],
            "text/html": [
              "\n",
              "  <div id=\"df-8aee7269-dd2d-4e32-8e1c-5433a27de378\">\n",
              "    <div class=\"colab-df-container\">\n",
              "      <div>\n",
              "<style scoped>\n",
              "    .dataframe tbody tr th:only-of-type {\n",
              "        vertical-align: middle;\n",
              "    }\n",
              "\n",
              "    .dataframe tbody tr th {\n",
              "        vertical-align: top;\n",
              "    }\n",
              "\n",
              "    .dataframe thead th {\n",
              "        text-align: right;\n",
              "    }\n",
              "</style>\n",
              "<table border=\"1\" class=\"dataframe\">\n",
              "  <thead>\n",
              "    <tr style=\"text-align: right;\">\n",
              "      <th></th>\n",
              "      <th>CustId</th>\n",
              "      <th>Rating</th>\n",
              "      <th>Date</th>\n",
              "      <th>MovieId</th>\n",
              "    </tr>\n",
              "  </thead>\n",
              "  <tbody>\n",
              "    <tr>\n",
              "      <th>0</th>\n",
              "      <td>1488844</td>\n",
              "      <td>3</td>\n",
              "      <td>2005-09-06</td>\n",
              "      <td>1</td>\n",
              "    </tr>\n",
              "    <tr>\n",
              "      <th>1</th>\n",
              "      <td>822109</td>\n",
              "      <td>5</td>\n",
              "      <td>2005-05-13</td>\n",
              "      <td>1</td>\n",
              "    </tr>\n",
              "    <tr>\n",
              "      <th>2</th>\n",
              "      <td>885013</td>\n",
              "      <td>4</td>\n",
              "      <td>2005-10-19</td>\n",
              "      <td>1</td>\n",
              "    </tr>\n",
              "    <tr>\n",
              "      <th>3</th>\n",
              "      <td>30878</td>\n",
              "      <td>4</td>\n",
              "      <td>2005-12-26</td>\n",
              "      <td>1</td>\n",
              "    </tr>\n",
              "    <tr>\n",
              "      <th>4</th>\n",
              "      <td>823519</td>\n",
              "      <td>3</td>\n",
              "      <td>2004-05-03</td>\n",
              "      <td>1</td>\n",
              "    </tr>\n",
              "  </tbody>\n",
              "</table>\n",
              "</div>\n",
              "      <button class=\"colab-df-convert\" onclick=\"convertToInteractive('df-8aee7269-dd2d-4e32-8e1c-5433a27de378')\"\n",
              "              title=\"Convert this dataframe to an interactive table.\"\n",
              "              style=\"display:none;\">\n",
              "        \n",
              "  <svg xmlns=\"http://www.w3.org/2000/svg\" height=\"24px\"viewBox=\"0 0 24 24\"\n",
              "       width=\"24px\">\n",
              "    <path d=\"M0 0h24v24H0V0z\" fill=\"none\"/>\n",
              "    <path d=\"M18.56 5.44l.94 2.06.94-2.06 2.06-.94-2.06-.94-.94-2.06-.94 2.06-2.06.94zm-11 1L8.5 8.5l.94-2.06 2.06-.94-2.06-.94L8.5 2.5l-.94 2.06-2.06.94zm10 10l.94 2.06.94-2.06 2.06-.94-2.06-.94-.94-2.06-.94 2.06-2.06.94z\"/><path d=\"M17.41 7.96l-1.37-1.37c-.4-.4-.92-.59-1.43-.59-.52 0-1.04.2-1.43.59L10.3 9.45l-7.72 7.72c-.78.78-.78 2.05 0 2.83L4 21.41c.39.39.9.59 1.41.59.51 0 1.02-.2 1.41-.59l7.78-7.78 2.81-2.81c.8-.78.8-2.07 0-2.86zM5.41 20L4 18.59l7.72-7.72 1.47 1.35L5.41 20z\"/>\n",
              "  </svg>\n",
              "      </button>\n",
              "      \n",
              "  <style>\n",
              "    .colab-df-container {\n",
              "      display:flex;\n",
              "      flex-wrap:wrap;\n",
              "      gap: 12px;\n",
              "    }\n",
              "\n",
              "    .colab-df-convert {\n",
              "      background-color: #E8F0FE;\n",
              "      border: none;\n",
              "      border-radius: 50%;\n",
              "      cursor: pointer;\n",
              "      display: none;\n",
              "      fill: #1967D2;\n",
              "      height: 32px;\n",
              "      padding: 0 0 0 0;\n",
              "      width: 32px;\n",
              "    }\n",
              "\n",
              "    .colab-df-convert:hover {\n",
              "      background-color: #E2EBFA;\n",
              "      box-shadow: 0px 1px 2px rgba(60, 64, 67, 0.3), 0px 1px 3px 1px rgba(60, 64, 67, 0.15);\n",
              "      fill: #174EA6;\n",
              "    }\n",
              "\n",
              "    [theme=dark] .colab-df-convert {\n",
              "      background-color: #3B4455;\n",
              "      fill: #D2E3FC;\n",
              "    }\n",
              "\n",
              "    [theme=dark] .colab-df-convert:hover {\n",
              "      background-color: #434B5C;\n",
              "      box-shadow: 0px 1px 3px 1px rgba(0, 0, 0, 0.15);\n",
              "      filter: drop-shadow(0px 1px 2px rgba(0, 0, 0, 0.3));\n",
              "      fill: #FFFFFF;\n",
              "    }\n",
              "  </style>\n",
              "\n",
              "      <script>\n",
              "        const buttonEl =\n",
              "          document.querySelector('#df-8aee7269-dd2d-4e32-8e1c-5433a27de378 button.colab-df-convert');\n",
              "        buttonEl.style.display =\n",
              "          google.colab.kernel.accessAllowed ? 'block' : 'none';\n",
              "\n",
              "        async function convertToInteractive(key) {\n",
              "          const element = document.querySelector('#df-8aee7269-dd2d-4e32-8e1c-5433a27de378');\n",
              "          const dataTable =\n",
              "            await google.colab.kernel.invokeFunction('convertToInteractive',\n",
              "                                                     [key], {});\n",
              "          if (!dataTable) return;\n",
              "\n",
              "          const docLinkHtml = 'Like what you see? Visit the ' +\n",
              "            '<a target=\"_blank\" href=https://colab.research.google.com/notebooks/data_table.ipynb>data table notebook</a>'\n",
              "            + ' to learn more about interactive tables.';\n",
              "          element.innerHTML = '';\n",
              "          dataTable['output_type'] = 'display_data';\n",
              "          await google.colab.output.renderOutput(dataTable, element);\n",
              "          const docLink = document.createElement('div');\n",
              "          docLink.innerHTML = docLinkHtml;\n",
              "          element.appendChild(docLink);\n",
              "        }\n",
              "      </script>\n",
              "    </div>\n",
              "  </div>\n",
              "  "
            ]
          },
          "metadata": {},
          "execution_count": 4
        }
      ]
    },
    {
      "cell_type": "markdown",
      "source": [
        "## Understanding the Data"
      ],
      "metadata": {
        "id": "o6CsTf6PO6y3"
      }
    },
    {
      "cell_type": "code",
      "source": [
        "# understanding the data \n",
        "def explicit_reactions(data, column):\n",
        "  \"\"\"different reactions provided by different users\"\"\"\n",
        "  out = data[column].value_counts()\n",
        "\n",
        "  return out\n",
        "\n",
        "def missing_values(data):\n",
        "  \"\"\"Missing values\"\"\"\n",
        "  if (data.isnull().any().any() == False):\n",
        "    out = print(f\"The data has no missing values.\")\n",
        "  else:\n",
        "    miss = data.isnull().sum().sort_values(ascending=False)\n",
        "    percentage_miss = ((data.isnull().sum()/len(data)).sort_values(ascending=False))\n",
        "    out = pd.DataFrame({'Missing': miss, \"Percentage(%)\": percentage_miss}, index=miss.index)\n",
        "    # remove values that are missing \n",
        "    out.drop(out[out[\"Percentage(%)\"] == 0].index, inplace = True)\n",
        "\n",
        "  return out \n",
        "\n"
      ],
      "metadata": {
        "id": "htgeSyFhPSBm"
      },
      "execution_count": null,
      "outputs": []
    },
    {
      "cell_type": "code",
      "source": [
        "ratings.shape"
      ],
      "metadata": {
        "colab": {
          "base_uri": "https://localhost:8080/"
        },
        "id": "MTi3IhsG0lEd",
        "outputId": "ed32b74d-5c1e-4178-8076-676d39850941"
      },
      "execution_count": null,
      "outputs": [
        {
          "output_type": "execute_result",
          "data": {
            "text/plain": [
              "(100480507, 4)"
            ]
          },
          "metadata": {},
          "execution_count": 6
        }
      ]
    },
    {
      "cell_type": "code",
      "source": [
        "movies.shape"
      ],
      "metadata": {
        "colab": {
          "base_uri": "https://localhost:8080/"
        },
        "id": "JeZMxPIZU0xv",
        "outputId": "a8dd4aff-c3aa-4e7f-d6c9-f00e4e0ab6b7"
      },
      "execution_count": null,
      "outputs": [
        {
          "output_type": "execute_result",
          "data": {
            "text/plain": [
              "(17770, 3)"
            ]
          },
          "metadata": {},
          "execution_count": 7
        }
      ]
    },
    {
      "cell_type": "code",
      "source": [
        "# explicit user reactions \n",
        "explicit_reactions(ratings, \"Rating\")"
      ],
      "metadata": {
        "colab": {
          "base_uri": "https://localhost:8080/"
        },
        "id": "buPQ0apHU6Da",
        "outputId": "43519073-c9cc-405a-cfdc-d98dc5e4301f"
      },
      "execution_count": null,
      "outputs": [
        {
          "output_type": "execute_result",
          "data": {
            "text/plain": [
              "4    33750958\n",
              "3    28811247\n",
              "5    23168232\n",
              "2    10132080\n",
              "1     4617990\n",
              "Name: Rating, dtype: int64"
            ]
          },
          "metadata": {},
          "execution_count": 7
        }
      ]
    },
    {
      "cell_type": "code",
      "source": [
        "# visualize \n",
        "fig, ax = plt.subplots(figsize=(10,8))\n",
        "user_reactions = explicit_reactions(ratings, \"Rating\")\n",
        "sns.barplot(x=user_reactions.index, y=user_reactions.values, ax=ax)\n",
        "ax.set_ylabel(\"Count of Ratings(10000000)\", fontsize=16)\n",
        "ax.set_xlabel(\"Ratings\", fontsize=16)\n",
        "ax.set_title(\"Explicit User Reactions\", fontsize=18)\n",
        "\n",
        "plt.show()\n",
        "\n",
        "fig.savefig('/content/drive/MyDrive/Live Sessions/lectures/Phase 4/Recommendation System /Collaborative Filtering/images/ratings.png')"
      ],
      "metadata": {
        "colab": {
          "base_uri": "https://localhost:8080/",
          "height": 543
        },
        "id": "NSYgS3ZEVpoL",
        "outputId": "67da5adc-0967-4a27-b5d0-a61ea5aaa02a"
      },
      "execution_count": null,
      "outputs": [
        {
          "output_type": "display_data",
          "data": {
            "text/plain": [
              "<Figure size 1000x800 with 1 Axes>"
            ],
            "image/png": "[encoded data removed]"
          },
          "metadata": {}
        }
      ]
    },
    {
      "cell_type": "code",
      "source": [
        "# missing data in movies \n",
        "missing_values(movies)"
      ],
      "metadata": {
        "colab": {
          "base_uri": "https://localhost:8080/",
          "height": 81
        },
        "id": "MgA9oRJBPJc6",
        "outputId": "9254e305-a7af-44b5-f915-40bcb6a1424b"
      },
      "execution_count": null,
      "outputs": [
        {
          "output_type": "execute_result",
          "data": {
            "text/plain": [
              "             Missing  Percentage(%)\n",
              "ReleaseYear        7       0.000394"
            ],
            "text/html": [
              "\n",
              "  <div id=\"df-780771ff-4277-4643-a935-43aebf7a9586\">\n",
              "    <div class=\"colab-df-container\">\n",
              "      <div>\n",
              "<style scoped>\n",
              "    .dataframe tbody tr th:only-of-type {\n",
              "        vertical-align: middle;\n",
              "    }\n",
              "\n",
              "    .dataframe tbody tr th {\n",
              "        vertical-align: top;\n",
              "    }\n",
              "\n",
              "    .dataframe thead th {\n",
              "        text-align: right;\n",
              "    }\n",
              "</style>\n",
              "<table border=\"1\" class=\"dataframe\">\n",
              "  <thead>\n",
              "    <tr style=\"text-align: right;\">\n",
              "      <th></th>\n",
              "      <th>Missing</th>\n",
              "      <th>Percentage(%)</th>\n",
              "    </tr>\n",
              "  </thead>\n",
              "  <tbody>\n",
              "    <tr>\n",
              "      <th>ReleaseYear</th>\n",
              "      <td>7</td>\n",
              "      <td>0.000394</td>\n",
              "    </tr>\n",
              "  </tbody>\n",
              "</table>\n",
              "</div>\n",
              "      <button class=\"colab-df-convert\" onclick=\"convertToInteractive('df-780771ff-4277-4643-a935-43aebf7a9586')\"\n",
              "              title=\"Convert this dataframe to an interactive table.\"\n",
              "              style=\"display:none;\">\n",
              "        \n",
              "  <svg xmlns=\"http://www.w3.org/2000/svg\" height=\"24px\"viewBox=\"0 0 24 24\"\n",
              "       width=\"24px\">\n",
              "    <path d=\"M0 0h24v24H0V0z\" fill=\"none\"/>\n",
              "    <path d=\"M18.56 5.44l.94 2.06.94-2.06 2.06-.94-2.06-.94-.94-2.06-.94 2.06-2.06.94zm-11 1L8.5 8.5l.94-2.06 2.06-.94-2.06-.94L8.5 2.5l-.94 2.06-2.06.94zm10 10l.94 2.06.94-2.06 2.06-.94-2.06-.94-.94-2.06-.94 2.06-2.06.94z\"/><path d=\"M17.41 7.96l-1.37-1.37c-.4-.4-.92-.59-1.43-.59-.52 0-1.04.2-1.43.59L10.3 9.45l-7.72 7.72c-.78.78-.78 2.05 0 2.83L4 21.41c.39.39.9.59 1.41.59.51 0 1.02-.2 1.41-.59l7.78-7.78 2.81-2.81c.8-.78.8-2.07 0-2.86zM5.41 20L4 18.59l7.72-7.72 1.47 1.35L5.41 20z\"/>\n",
              "  </svg>\n",
              "      </button>\n",
              "      \n",
              "  <style>\n",
              "    .colab-df-container {\n",
              "      display:flex;\n",
              "      flex-wrap:wrap;\n",
              "      gap: 12px;\n",
              "    }\n",
              "\n",
              "    .colab-df-convert {\n",
              "      background-color: #E8F0FE;\n",
              "      border: none;\n",
              "      border-radius: 50%;\n",
              "      cursor: pointer;\n",
              "      display: none;\n",
              "      fill: #1967D2;\n",
              "      height: 32px;\n",
              "      padding: 0 0 0 0;\n",
              "      width: 32px;\n",
              "    }\n",
              "\n",
              "    .colab-df-convert:hover {\n",
              "      background-color: #E2EBFA;\n",
              "      box-shadow: 0px 1px 2px rgba(60, 64, 67, 0.3), 0px 1px 3px 1px rgba(60, 64, 67, 0.15);\n",
              "      fill: #174EA6;\n",
              "    }\n",
              "\n",
              "    [theme=dark] .colab-df-convert {\n",
              "      background-color: #3B4455;\n",
              "      fill: #D2E3FC;\n",
              "    }\n",
              "\n",
              "    [theme=dark] .colab-df-convert:hover {\n",
              "      background-color: #434B5C;\n",
              "      box-shadow: 0px 1px 3px 1px rgba(0, 0, 0, 0.15);\n",
              "      filter: drop-shadow(0px 1px 2px rgba(0, 0, 0, 0.3));\n",
              "      fill: #FFFFFF;\n",
              "    }\n",
              "  </style>\n",
              "\n",
              "      <script>\n",
              "        const buttonEl =\n",
              "          document.querySelector('#df-780771ff-4277-4643-a935-43aebf7a9586 button.colab-df-convert');\n",
              "        buttonEl.style.display =\n",
              "          google.colab.kernel.accessAllowed ? 'block' : 'none';\n",
              "\n",
              "        async function convertToInteractive(key) {\n",
              "          const element = document.querySelector('#df-780771ff-4277-4643-a935-43aebf7a9586');\n",
              "          const dataTable =\n",
              "            await google.colab.kernel.invokeFunction('convertToInteractive',\n",
              "                                                     [key], {});\n",
              "          if (!dataTable) return;\n",
              "\n",
              "          const docLinkHtml = 'Like what you see? Visit the ' +\n",
              "            '<a target=\"_blank\" href=https://colab.research.google.com/notebooks/data_table.ipynb>data table notebook</a>'\n",
              "            + ' to learn more about interactive tables.';\n",
              "          element.innerHTML = '';\n",
              "          dataTable['output_type'] = 'display_data';\n",
              "          await google.colab.output.renderOutput(dataTable, element);\n",
              "          const docLink = document.createElement('div');\n",
              "          docLink.innerHTML = docLinkHtml;\n",
              "          element.appendChild(docLink);\n",
              "        }\n",
              "      </script>\n",
              "    </div>\n",
              "  </div>\n",
              "  "
            ]
          },
          "metadata": {},
          "execution_count": 9
        }
      ]
    },
    {
      "cell_type": "code",
      "source": [
        "# missing data in ratings \n",
        "missing_values(ratings)"
      ],
      "metadata": {
        "colab": {
          "base_uri": "https://localhost:8080/"
        },
        "id": "k6EOC_sf4iot",
        "outputId": "e474f00c-e439-4967-9a0a-5b910c196c8f"
      },
      "execution_count": null,
      "outputs": [
        {
          "output_type": "stream",
          "name": "stdout",
          "text": [
            "The data has no missing values.\n"
          ]
        }
      ]
    },
    {
      "cell_type": "markdown",
      "source": [
        "## Data Preparation\n",
        "\n",
        "Represent the data as a user-item matrix, where each row corresponds to a user, each column corresponds to an item, and the cells contain the ratings(interactions). By organizing the user-item interactions in a matrix format, collaborative filtering algorithms can analyze the patterns, similarities, and relationships between users and items.\n",
        "\n",
        "You can use pandas ```pivot_table()``` function of the ```groupby()``` function in combination with other operations to reshape the data into the desired matrix format"
      ],
      "metadata": {
        "id": "mjLk7Zx8PLoI"
      }
    },
    {
      "cell_type": "code",
      "source": [
        "# Set the random seed for reproducibility\n",
        "random_seed = 42\n",
        "\n",
        "# Shuffle the ratings DataFrame\n",
        "ratings_shuffled = ratings.sample(frac=1, random_state=random_seed)\n",
        "\n",
        "# Split the shuffled DataFrame into five samples\n",
        "num_samples = 5\n",
        "sample_size = len(ratings_shuffled) // num_samples\n",
        "\n",
        "# Create an empty list to store the samples\n",
        "samples = []\n",
        "\n",
        "# Iterate over the number of samples\n",
        "for i in range(num_samples):\n",
        "    # Select a subset of the shuffled DataFrame\n",
        "    sample = ratings_shuffled[i * sample_size : (i + 1) * sample_size].copy()\n",
        "    \n",
        "    # Append the sample to the list of samples\n",
        "    samples.append(sample)\n",
        "\n",
        "# Print the first few rows of each sample\n",
        "for i, sample in enumerate(samples):\n",
        "    print(f\"Sample {i+1}:\")\n",
        "    print(sample.head())\n",
        "    print()\n"
      ],
      "metadata": {
        "colab": {
          "base_uri": "https://localhost:8080/",
          "height": 300
        },
        "id": "XCqIBVjPnyGN",
        "outputId": "d4676134-c905-4674-a795-cd015cef8096"
      },
      "execution_count": null,
      "outputs": [
        {
          "output_type": "error",
          "ename": "NameError",
          "evalue": "ignored",
          "traceback": [
            "\u001b[0;31m---------------------------------------------------------------------------\u001b[0m",
            "\u001b[0;31mNameError\u001b[0m                                 Traceback (most recent call last)",
            "\u001b[0;32m<ipython-input-3-3392a4dfddc7>\u001b[0m in \u001b[0;36m<cell line: 5>\u001b[0;34m()\u001b[0m\n\u001b[1;32m      3\u001b[0m \u001b[0;34m\u001b[0m\u001b[0m\n\u001b[1;32m      4\u001b[0m \u001b[0;31m# Shuffle the ratings DataFrame\u001b[0m\u001b[0;34m\u001b[0m\u001b[0;34m\u001b[0m\u001b[0m\n\u001b[0;32m----> 5\u001b[0;31m \u001b[0mratings_shuffled\u001b[0m \u001b[0;34m=\u001b[0m \u001b[0mratings\u001b[0m\u001b[0;34m.\u001b[0m\u001b[0msample\u001b[0m\u001b[0;34m(\u001b[0m\u001b[0mfrac\u001b[0m\u001b[0;34m=\u001b[0m\u001b[0;36m1\u001b[0m\u001b[0;34m,\u001b[0m \u001b[0mrandom_state\u001b[0m\u001b[0;34m=\u001b[0m\u001b[0mrandom_seed\u001b[0m\u001b[0;34m)\u001b[0m\u001b[0;34m\u001b[0m\u001b[0;34m\u001b[0m\u001b[0m\n\u001b[0m\u001b[1;32m      6\u001b[0m \u001b[0;34m\u001b[0m\u001b[0m\n\u001b[1;32m      7\u001b[0m \u001b[0;31m# Split the shuffled DataFrame into five samples\u001b[0m\u001b[0;34m\u001b[0m\u001b[0;34m\u001b[0m\u001b[0m\n",
            "\u001b[0;31mNameError\u001b[0m: name 'ratings' is not defined"
          ]
        }
      ]
    },
    {
      "cell_type": "code",
      "source": [
        "# store the samples as CSV files \n",
        "def store_samples(sample, path, name):\n",
        "  \"\"\"Store samples as CSV files\"\"\"\n",
        "  data = sample.to_csv(f\"{path}/{name}\")\n",
        "\n",
        "\n",
        "store_samples(samples[0], '/content/drive/MyDrive/Live Sessions/lectures/Phase 4/Recommendation System /Collaborative Filtering/data', 'sample1')"
      ],
      "metadata": {
        "colab": {
          "base_uri": "https://localhost:8080/",
          "height": 281
        },
        "id": "MBasxOGtg8Tm",
        "outputId": "549f8a5d-0b9d-4d05-c5c0-6ccb104530ad"
      },
      "execution_count": null,
      "outputs": [
        {
          "output_type": "error",
          "ename": "NameError",
          "evalue": "ignored",
          "traceback": [
            "\u001b[0;31m---------------------------------------------------------------------------\u001b[0m",
            "\u001b[0;31mNameError\u001b[0m                                 Traceback (most recent call last)",
            "\u001b[0;32m<ipython-input-2-ca3477fcfa32>\u001b[0m in \u001b[0;36m<cell line: 7>\u001b[0;34m()\u001b[0m\n\u001b[1;32m      5\u001b[0m \u001b[0;34m\u001b[0m\u001b[0m\n\u001b[1;32m      6\u001b[0m \u001b[0;34m\u001b[0m\u001b[0m\n\u001b[0;32m----> 7\u001b[0;31m \u001b[0mstore_samples\u001b[0m\u001b[0;34m(\u001b[0m\u001b[0msamples\u001b[0m\u001b[0;34m[\u001b[0m\u001b[0;36m0\u001b[0m\u001b[0;34m]\u001b[0m\u001b[0;34m,\u001b[0m \u001b[0;34m'/content/drive/MyDrive/Live Sessions/lectures/Phase 4/Recommendation System /Collaborative Filtering/data'\u001b[0m\u001b[0;34m,\u001b[0m \u001b[0;34m'sample1'\u001b[0m\u001b[0;34m)\u001b[0m\u001b[0;34m\u001b[0m\u001b[0;34m\u001b[0m\u001b[0m\n\u001b[0m",
            "\u001b[0;31mNameError\u001b[0m: name 'samples' is not defined"
          ]
        }
      ]
    },
    {
      "cell_type": "code",
      "source": [
        "# load the sample \n",
        "df = pd.read_csv('/content/drive/MyDrive/Live Sessions/lectures/Phase 4/Recommendation System /Collaborative Filtering/data/sample1')\n",
        "df.head()"
      ],
      "metadata": {
        "colab": {
          "base_uri": "https://localhost:8080/",
          "height": 206
        },
        "id": "b9voU0CDrBj8",
        "outputId": "cccf9186-0f4c-491e-df67-f613f2db3634"
      },
      "execution_count": null,
      "outputs": [
        {
          "output_type": "execute_result",
          "data": {
            "text/plain": [
              "   Unnamed: 0   CustId  Rating        Date  MovieId\n",
              "0    87800315   404578       4  2005-10-26    15582\n",
              "1    36770798   636396       4  2004-08-05     6510\n",
              "2    87357564  2258880       4  2005-06-15    15500\n",
              "3    81468281  1574865       2  2004-08-26    14621\n",
              "4    21872551   237063       4  2004-01-26     4123"
            ],
            "text/html": [
              "\n",
              "  <div id=\"df-50ee6d67-e520-40f3-b307-b1e0a062e065\">\n",
              "    <div class=\"colab-df-container\">\n",
              "      <div>\n",
              "<style scoped>\n",
              "    .dataframe tbody tr th:only-of-type {\n",
              "        vertical-align: middle;\n",
              "    }\n",
              "\n",
              "    .dataframe tbody tr th {\n",
              "        vertical-align: top;\n",
              "    }\n",
              "\n",
              "    .dataframe thead th {\n",
              "        text-align: right;\n",
              "    }\n",
              "</style>\n",
              "<table border=\"1\" class=\"dataframe\">\n",
              "  <thead>\n",
              "    <tr style=\"text-align: right;\">\n",
              "      <th></th>\n",
              "      <th>Unnamed: 0</th>\n",
              "      <th>CustId</th>\n",
              "      <th>Rating</th>\n",
              "      <th>Date</th>\n",
              "      <th>MovieId</th>\n",
              "    </tr>\n",
              "  </thead>\n",
              "  <tbody>\n",
              "    <tr>\n",
              "      <th>0</th>\n",
              "      <td>87800315</td>\n",
              "      <td>404578</td>\n",
              "      <td>4</td>\n",
              "      <td>2005-10-26</td>\n",
              "      <td>15582</td>\n",
              "    </tr>\n",
              "    <tr>\n",
              "      <th>1</th>\n",
              "      <td>36770798</td>\n",
              "      <td>636396</td>\n",
              "      <td>4</td>\n",
              "      <td>2004-08-05</td>\n",
              "      <td>6510</td>\n",
              "    </tr>\n",
              "    <tr>\n",
              "      <th>2</th>\n",
              "      <td>87357564</td>\n",
              "      <td>2258880</td>\n",
              "      <td>4</td>\n",
              "      <td>2005-06-15</td>\n",
              "      <td>15500</td>\n",
              "    </tr>\n",
              "    <tr>\n",
              "      <th>3</th>\n",
              "      <td>81468281</td>\n",
              "      <td>1574865</td>\n",
              "      <td>2</td>\n",
              "      <td>2004-08-26</td>\n",
              "      <td>14621</td>\n",
              "    </tr>\n",
              "    <tr>\n",
              "      <th>4</th>\n",
              "      <td>21872551</td>\n",
              "      <td>237063</td>\n",
              "      <td>4</td>\n",
              "      <td>2004-01-26</td>\n",
              "      <td>4123</td>\n",
              "    </tr>\n",
              "  </tbody>\n",
              "</table>\n",
              "</div>\n",
              "      <button class=\"colab-df-convert\" onclick=\"convertToInteractive('df-50ee6d67-e520-40f3-b307-b1e0a062e065')\"\n",
              "              title=\"Convert this dataframe to an interactive table.\"\n",
              "              style=\"display:none;\">\n",
              "        \n",
              "  <svg xmlns=\"http://www.w3.org/2000/svg\" height=\"24px\"viewBox=\"0 0 24 24\"\n",
              "       width=\"24px\">\n",
              "    <path d=\"M0 0h24v24H0V0z\" fill=\"none\"/>\n",
              "    <path d=\"M18.56 5.44l.94 2.06.94-2.06 2.06-.94-2.06-.94-.94-2.06-.94 2.06-2.06.94zm-11 1L8.5 8.5l.94-2.06 2.06-.94-2.06-.94L8.5 2.5l-.94 2.06-2.06.94zm10 10l.94 2.06.94-2.06 2.06-.94-2.06-.94-.94-2.06-.94 2.06-2.06.94z\"/><path d=\"M17.41 7.96l-1.37-1.37c-.4-.4-.92-.59-1.43-.59-.52 0-1.04.2-1.43.59L10.3 9.45l-7.72 7.72c-.78.78-.78 2.05 0 2.83L4 21.41c.39.39.9.59 1.41.59.51 0 1.02-.2 1.41-.59l7.78-7.78 2.81-2.81c.8-.78.8-2.07 0-2.86zM5.41 20L4 18.59l7.72-7.72 1.47 1.35L5.41 20z\"/>\n",
              "  </svg>\n",
              "      </button>\n",
              "      \n",
              "  <style>\n",
              "    .colab-df-container {\n",
              "      display:flex;\n",
              "      flex-wrap:wrap;\n",
              "      gap: 12px;\n",
              "    }\n",
              "\n",
              "    .colab-df-convert {\n",
              "      background-color: #E8F0FE;\n",
              "      border: none;\n",
              "      border-radius: 50%;\n",
              "      cursor: pointer;\n",
              "      display: none;\n",
              "      fill: #1967D2;\n",
              "      height: 32px;\n",
              "      padding: 0 0 0 0;\n",
              "      width: 32px;\n",
              "    }\n",
              "\n",
              "    .colab-df-convert:hover {\n",
              "      background-color: #E2EBFA;\n",
              "      box-shadow: 0px 1px 2px rgba(60, 64, 67, 0.3), 0px 1px 3px 1px rgba(60, 64, 67, 0.15);\n",
              "      fill: #174EA6;\n",
              "    }\n",
              "\n",
              "    [theme=dark] .colab-df-convert {\n",
              "      background-color: #3B4455;\n",
              "      fill: #D2E3FC;\n",
              "    }\n",
              "\n",
              "    [theme=dark] .colab-df-convert:hover {\n",
              "      background-color: #434B5C;\n",
              "      box-shadow: 0px 1px 3px 1px rgba(0, 0, 0, 0.15);\n",
              "      filter: drop-shadow(0px 1px 2px rgba(0, 0, 0, 0.3));\n",
              "      fill: #FFFFFF;\n",
              "    }\n",
              "  </style>\n",
              "\n",
              "      <script>\n",
              "        const buttonEl =\n",
              "          document.querySelector('#df-50ee6d67-e520-40f3-b307-b1e0a062e065 button.colab-df-convert');\n",
              "        buttonEl.style.display =\n",
              "          google.colab.kernel.accessAllowed ? 'block' : 'none';\n",
              "\n",
              "        async function convertToInteractive(key) {\n",
              "          const element = document.querySelector('#df-50ee6d67-e520-40f3-b307-b1e0a062e065');\n",
              "          const dataTable =\n",
              "            await google.colab.kernel.invokeFunction('convertToInteractive',\n",
              "                                                     [key], {});\n",
              "          if (!dataTable) return;\n",
              "\n",
              "          const docLinkHtml = 'Like what you see? Visit the ' +\n",
              "            '<a target=\"_blank\" href=https://colab.research.google.com/notebooks/data_table.ipynb>data table notebook</a>'\n",
              "            + ' to learn more about interactive tables.';\n",
              "          element.innerHTML = '';\n",
              "          dataTable['output_type'] = 'display_data';\n",
              "          await google.colab.output.renderOutput(dataTable, element);\n",
              "          const docLink = document.createElement('div');\n",
              "          docLink.innerHTML = docLinkHtml;\n",
              "          element.appendChild(docLink);\n",
              "        }\n",
              "      </script>\n",
              "    </div>\n",
              "  </div>\n",
              "  "
            ]
          },
          "metadata": {},
          "execution_count": 2
        }
      ]
    },
    {
      "cell_type": "code",
      "source": [
        "# drop the unnamed: 0\n",
        "df.drop('Unnamed: 0', axis=1, inplace=True)"
      ],
      "metadata": {
        "id": "cDmvnxd6r1-u"
      },
      "execution_count": null,
      "outputs": []
    },
    {
      "cell_type": "code",
      "source": [
        "# pick a sample of 100000\n",
        "sample = df.sample(n=50000, random_state=42)\n",
        "\n",
        "sample.head()"
      ],
      "metadata": {
        "colab": {
          "base_uri": "https://localhost:8080/",
          "height": 206
        },
        "id": "J-3i-vqts7VD",
        "outputId": "054f9e68-746e-4e24-beeb-5063efa243be"
      },
      "execution_count": null,
      "outputs": [
        {
          "output_type": "execute_result",
          "data": {
            "text/plain": [
              "           CustId  Rating        Date  MovieId\n",
              "14944749   290740       4  2005-11-05    11121\n",
              "1025657   1057555       4  2005-09-17      257\n",
              "15593216  2627515       5  2005-06-20     7780\n",
              "7359988    357285       3  2005-11-15    17295\n",
              "18188283   534794       5  2004-09-09    15425"
            ],
            "text/html": [
              "\n",
              "  <div id=\"df-54651648-6514-46dd-8e67-264ec57606d4\">\n",
              "    <div class=\"colab-df-container\">\n",
              "      <div>\n",
              "<style scoped>\n",
              "    .dataframe tbody tr th:only-of-type {\n",
              "        vertical-align: middle;\n",
              "    }\n",
              "\n",
              "    .dataframe tbody tr th {\n",
              "        vertical-align: top;\n",
              "    }\n",
              "\n",
              "    .dataframe thead th {\n",
              "        text-align: right;\n",
              "    }\n",
              "</style>\n",
              "<table border=\"1\" class=\"dataframe\">\n",
              "  <thead>\n",
              "    <tr style=\"text-align: right;\">\n",
              "      <th></th>\n",
              "      <th>CustId</th>\n",
              "      <th>Rating</th>\n",
              "      <th>Date</th>\n",
              "      <th>MovieId</th>\n",
              "    </tr>\n",
              "  </thead>\n",
              "  <tbody>\n",
              "    <tr>\n",
              "      <th>14944749</th>\n",
              "      <td>290740</td>\n",
              "      <td>4</td>\n",
              "      <td>2005-11-05</td>\n",
              "      <td>11121</td>\n",
              "    </tr>\n",
              "    <tr>\n",
              "      <th>1025657</th>\n",
              "      <td>1057555</td>\n",
              "      <td>4</td>\n",
              "      <td>2005-09-17</td>\n",
              "      <td>257</td>\n",
              "    </tr>\n",
              "    <tr>\n",
              "      <th>15593216</th>\n",
              "      <td>2627515</td>\n",
              "      <td>5</td>\n",
              "      <td>2005-06-20</td>\n",
              "      <td>7780</td>\n",
              "    </tr>\n",
              "    <tr>\n",
              "      <th>7359988</th>\n",
              "      <td>357285</td>\n",
              "      <td>3</td>\n",
              "      <td>2005-11-15</td>\n",
              "      <td>17295</td>\n",
              "    </tr>\n",
              "    <tr>\n",
              "      <th>18188283</th>\n",
              "      <td>534794</td>\n",
              "      <td>5</td>\n",
              "      <td>2004-09-09</td>\n",
              "      <td>15425</td>\n",
              "    </tr>\n",
              "  </tbody>\n",
              "</table>\n",
              "</div>\n",
              "      <button class=\"colab-df-convert\" onclick=\"convertToInteractive('df-54651648-6514-46dd-8e67-264ec57606d4')\"\n",
              "              title=\"Convert this dataframe to an interactive table.\"\n",
              "              style=\"display:none;\">\n",
              "        \n",
              "  <svg xmlns=\"http://www.w3.org/2000/svg\" height=\"24px\"viewBox=\"0 0 24 24\"\n",
              "       width=\"24px\">\n",
              "    <path d=\"M0 0h24v24H0V0z\" fill=\"none\"/>\n",
              "    <path d=\"M18.56 5.44l.94 2.06.94-2.06 2.06-.94-2.06-.94-.94-2.06-.94 2.06-2.06.94zm-11 1L8.5 8.5l.94-2.06 2.06-.94-2.06-.94L8.5 2.5l-.94 2.06-2.06.94zm10 10l.94 2.06.94-2.06 2.06-.94-2.06-.94-.94-2.06-.94 2.06-2.06.94z\"/><path d=\"M17.41 7.96l-1.37-1.37c-.4-.4-.92-.59-1.43-.59-.52 0-1.04.2-1.43.59L10.3 9.45l-7.72 7.72c-.78.78-.78 2.05 0 2.83L4 21.41c.39.39.9.59 1.41.59.51 0 1.02-.2 1.41-.59l7.78-7.78 2.81-2.81c.8-.78.8-2.07 0-2.86zM5.41 20L4 18.59l7.72-7.72 1.47 1.35L5.41 20z\"/>\n",
              "  </svg>\n",
              "      </button>\n",
              "      \n",
              "  <style>\n",
              "    .colab-df-container {\n",
              "      display:flex;\n",
              "      flex-wrap:wrap;\n",
              "      gap: 12px;\n",
              "    }\n",
              "\n",
              "    .colab-df-convert {\n",
              "      background-color: #E8F0FE;\n",
              "      border: none;\n",
              "      border-radius: 50%;\n",
              "      cursor: pointer;\n",
              "      display: none;\n",
              "      fill: #1967D2;\n",
              "      height: 32px;\n",
              "      padding: 0 0 0 0;\n",
              "      width: 32px;\n",
              "    }\n",
              "\n",
              "    .colab-df-convert:hover {\n",
              "      background-color: #E2EBFA;\n",
              "      box-shadow: 0px 1px 2px rgba(60, 64, 67, 0.3), 0px 1px 3px 1px rgba(60, 64, 67, 0.15);\n",
              "      fill: #174EA6;\n",
              "    }\n",
              "\n",
              "    [theme=dark] .colab-df-convert {\n",
              "      background-color: #3B4455;\n",
              "      fill: #D2E3FC;\n",
              "    }\n",
              "\n",
              "    [theme=dark] .colab-df-convert:hover {\n",
              "      background-color: #434B5C;\n",
              "      box-shadow: 0px 1px 3px 1px rgba(0, 0, 0, 0.15);\n",
              "      filter: drop-shadow(0px 1px 2px rgba(0, 0, 0, 0.3));\n",
              "      fill: #FFFFFF;\n",
              "    }\n",
              "  </style>\n",
              "\n",
              "      <script>\n",
              "        const buttonEl =\n",
              "          document.querySelector('#df-54651648-6514-46dd-8e67-264ec57606d4 button.colab-df-convert');\n",
              "        buttonEl.style.display =\n",
              "          google.colab.kernel.accessAllowed ? 'block' : 'none';\n",
              "\n",
              "        async function convertToInteractive(key) {\n",
              "          const element = document.querySelector('#df-54651648-6514-46dd-8e67-264ec57606d4');\n",
              "          const dataTable =\n",
              "            await google.colab.kernel.invokeFunction('convertToInteractive',\n",
              "                                                     [key], {});\n",
              "          if (!dataTable) return;\n",
              "\n",
              "          const docLinkHtml = 'Like what you see? Visit the ' +\n",
              "            '<a target=\"_blank\" href=https://colab.research.google.com/notebooks/data_table.ipynb>data table notebook</a>'\n",
              "            + ' to learn more about interactive tables.';\n",
              "          element.innerHTML = '';\n",
              "          dataTable['output_type'] = 'display_data';\n",
              "          await google.colab.output.renderOutput(dataTable, element);\n",
              "          const docLink = document.createElement('div');\n",
              "          docLink.innerHTML = docLinkHtml;\n",
              "          element.appendChild(docLink);\n",
              "        }\n",
              "      </script>\n",
              "    </div>\n",
              "  </div>\n",
              "  "
            ]
          },
          "metadata": {},
          "execution_count": 4
        }
      ]
    },
    {
      "cell_type": "code",
      "source": [
        "# create the user-item matrix\n",
        "user_item_matrix = sample.pivot_table(index='CustId', columns='MovieId', values='Rating')\n",
        "\n",
        "# preview the table\n",
        "user_item_matrix.head()"
      ],
      "metadata": {
        "colab": {
          "base_uri": "https://localhost:8080/",
          "height": 331
        },
        "id": "LNb6fNOXPKzm",
        "outputId": "1809387f-18d6-4cd4-dc79-ca5707856cd0"
      },
      "execution_count": null,
      "outputs": [
        {
          "output_type": "execute_result",
          "data": {
            "text/plain": [
              "MovieId  3      5      8      17     18     26     27     28     30     33     \\\n",
              "CustId                                                                          \n",
              "6          NaN    NaN    NaN    NaN    NaN    NaN    NaN    NaN    NaN    NaN   \n",
              "168        NaN    NaN    NaN    NaN    NaN    NaN    NaN    NaN    NaN    NaN   \n",
              "291        NaN    NaN    NaN    NaN    NaN    NaN    NaN    NaN    NaN    NaN   \n",
              "305        NaN    NaN    NaN    NaN    NaN    NaN    NaN    NaN    NaN    NaN   \n",
              "477        NaN    NaN    NaN    NaN    NaN    NaN    NaN    NaN    NaN    NaN   \n",
              "\n",
              "MovieId  ...  17745  17748  17751  17756  17758  17760  17762  17764  17766  \\\n",
              "CustId   ...                                                                  \n",
              "6        ...    NaN    NaN    NaN    NaN    NaN    NaN    NaN    NaN    NaN   \n",
              "168      ...    NaN    NaN    NaN    NaN    NaN    NaN    NaN    NaN    NaN   \n",
              "291      ...    NaN    NaN    NaN    NaN    NaN    NaN    NaN    NaN    NaN   \n",
              "305      ...    NaN    NaN    NaN    NaN    NaN    NaN    NaN    NaN    NaN   \n",
              "477      ...    NaN    NaN    NaN    NaN    NaN    NaN    NaN    NaN    NaN   \n",
              "\n",
              "MovieId  17769  \n",
              "CustId          \n",
              "6          NaN  \n",
              "168        NaN  \n",
              "291        NaN  \n",
              "305        NaN  \n",
              "477        NaN  \n",
              "\n",
              "[5 rows x 7220 columns]"
            ],
            "text/html": [
              "\n",
              "  <div id=\"df-e8b0a99a-7ddf-4c06-a120-00b02a3346fb\">\n",
              "    <div class=\"colab-df-container\">\n",
              "      <div>\n",
              "<style scoped>\n",
              "    .dataframe tbody tr th:only-of-type {\n",
              "        vertical-align: middle;\n",
              "    }\n",
              "\n",
              "    .dataframe tbody tr th {\n",
              "        vertical-align: top;\n",
              "    }\n",
              "\n",
              "    .dataframe thead th {\n",
              "        text-align: right;\n",
              "    }\n",
              "</style>\n",
              "<table border=\"1\" class=\"dataframe\">\n",
              "  <thead>\n",
              "    <tr style=\"text-align: right;\">\n",
              "      <th>MovieId</th>\n",
              "      <th>3</th>\n",
              "      <th>5</th>\n",
              "      <th>8</th>\n",
              "      <th>17</th>\n",
              "      <th>18</th>\n",
              "      <th>26</th>\n",
              "      <th>27</th>\n",
              "      <th>28</th>\n",
              "      <th>30</th>\n",
              "      <th>33</th>\n",
              "      <th>...</th>\n",
              "      <th>17745</th>\n",
              "      <th>17748</th>\n",
              "      <th>17751</th>\n",
              "      <th>17756</th>\n",
              "      <th>17758</th>\n",
              "      <th>17760</th>\n",
              "      <th>17762</th>\n",
              "      <th>17764</th>\n",
              "      <th>17766</th>\n",
              "      <th>17769</th>\n",
              "    </tr>\n",
              "    <tr>\n",
              "      <th>CustId</th>\n",
              "      <th></th>\n",
              "      <th></th>\n",
              "      <th></th>\n",
              "      <th></th>\n",
              "      <th></th>\n",
              "      <th></th>\n",
              "      <th></th>\n",
              "      <th></th>\n",
              "      <th></th>\n",
              "      <th></th>\n",
              "      <th></th>\n",
              "      <th></th>\n",
              "      <th></th>\n",
              "      <th></th>\n",
              "      <th></th>\n",
              "      <th></th>\n",
              "      <th></th>\n",
              "      <th></th>\n",
              "      <th></th>\n",
              "      <th></th>\n",
              "      <th></th>\n",
              "    </tr>\n",
              "  </thead>\n",
              "  <tbody>\n",
              "    <tr>\n",
              "      <th>6</th>\n",
              "      <td>NaN</td>\n",
              "      <td>NaN</td>\n",
              "      <td>NaN</td>\n",
              "      <td>NaN</td>\n",
              "      <td>NaN</td>\n",
              "      <td>NaN</td>\n",
              "      <td>NaN</td>\n",
              "      <td>NaN</td>\n",
              "      <td>NaN</td>\n",
              "      <td>NaN</td>\n",
              "      <td>...</td>\n",
              "      <td>NaN</td>\n",
              "      <td>NaN</td>\n",
              "      <td>NaN</td>\n",
              "      <td>NaN</td>\n",
              "      <td>NaN</td>\n",
              "      <td>NaN</td>\n",
              "      <td>NaN</td>\n",
              "      <td>NaN</td>\n",
              "      <td>NaN</td>\n",
              "      <td>NaN</td>\n",
              "    </tr>\n",
              "    <tr>\n",
              "      <th>168</th>\n",
              "      <td>NaN</td>\n",
              "      <td>NaN</td>\n",
              "      <td>NaN</td>\n",
              "      <td>NaN</td>\n",
              "      <td>NaN</td>\n",
              "      <td>NaN</td>\n",
              "      <td>NaN</td>\n",
              "      <td>NaN</td>\n",
              "      <td>NaN</td>\n",
              "      <td>NaN</td>\n",
              "      <td>...</td>\n",
              "      <td>NaN</td>\n",
              "      <td>NaN</td>\n",
              "      <td>NaN</td>\n",
              "      <td>NaN</td>\n",
              "      <td>NaN</td>\n",
              "      <td>NaN</td>\n",
              "      <td>NaN</td>\n",
              "      <td>NaN</td>\n",
              "      <td>NaN</td>\n",
              "      <td>NaN</td>\n",
              "    </tr>\n",
              "    <tr>\n",
              "      <th>291</th>\n",
              "      <td>NaN</td>\n",
              "      <td>NaN</td>\n",
              "      <td>NaN</td>\n",
              "      <td>NaN</td>\n",
              "      <td>NaN</td>\n",
              "      <td>NaN</td>\n",
              "      <td>NaN</td>\n",
              "      <td>NaN</td>\n",
              "      <td>NaN</td>\n",
              "      <td>NaN</td>\n",
              "      <td>...</td>\n",
              "      <td>NaN</td>\n",
              "      <td>NaN</td>\n",
              "      <td>NaN</td>\n",
              "      <td>NaN</td>\n",
              "      <td>NaN</td>\n",
              "      <td>NaN</td>\n",
              "      <td>NaN</td>\n",
              "      <td>NaN</td>\n",
              "      <td>NaN</td>\n",
              "      <td>NaN</td>\n",
              "    </tr>\n",
              "    <tr>\n",
              "      <th>305</th>\n",
              "      <td>NaN</td>\n",
              "      <td>NaN</td>\n",
              "      <td>NaN</td>\n",
              "      <td>NaN</td>\n",
              "      <td>NaN</td>\n",
              "      <td>NaN</td>\n",
              "      <td>NaN</td>\n",
              "      <td>NaN</td>\n",
              "      <td>NaN</td>\n",
              "      <td>NaN</td>\n",
              "      <td>...</td>\n",
              "      <td>NaN</td>\n",
              "      <td>NaN</td>\n",
              "      <td>NaN</td>\n",
              "      <td>NaN</td>\n",
              "      <td>NaN</td>\n",
              "      <td>NaN</td>\n",
              "      <td>NaN</td>\n",
              "      <td>NaN</td>\n",
              "      <td>NaN</td>\n",
              "      <td>NaN</td>\n",
              "    </tr>\n",
              "    <tr>\n",
              "      <th>477</th>\n",
              "      <td>NaN</td>\n",
              "      <td>NaN</td>\n",
              "      <td>NaN</td>\n",
              "      <td>NaN</td>\n",
              "      <td>NaN</td>\n",
              "      <td>NaN</td>\n",
              "      <td>NaN</td>\n",
              "      <td>NaN</td>\n",
              "      <td>NaN</td>\n",
              "      <td>NaN</td>\n",
              "      <td>...</td>\n",
              "      <td>NaN</td>\n",
              "      <td>NaN</td>\n",
              "      <td>NaN</td>\n",
              "      <td>NaN</td>\n",
              "      <td>NaN</td>\n",
              "      <td>NaN</td>\n",
              "      <td>NaN</td>\n",
              "      <td>NaN</td>\n",
              "      <td>NaN</td>\n",
              "      <td>NaN</td>\n",
              "    </tr>\n",
              "  </tbody>\n",
              "</table>\n",
              "<p>5 rows × 7220 columns</p>\n",
              "</div>\n",
              "      <button class=\"colab-df-convert\" onclick=\"convertToInteractive('df-e8b0a99a-7ddf-4c06-a120-00b02a3346fb')\"\n",
              "              title=\"Convert this dataframe to an interactive table.\"\n",
              "              style=\"display:none;\">\n",
              "        \n",
              "  <svg xmlns=\"http://www.w3.org/2000/svg\" height=\"24px\"viewBox=\"0 0 24 24\"\n",
              "       width=\"24px\">\n",
              "    <path d=\"M0 0h24v24H0V0z\" fill=\"none\"/>\n",
              "    <path d=\"M18.56 5.44l.94 2.06.94-2.06 2.06-.94-2.06-.94-.94-2.06-.94 2.06-2.06.94zm-11 1L8.5 8.5l.94-2.06 2.06-.94-2.06-.94L8.5 2.5l-.94 2.06-2.06.94zm10 10l.94 2.06.94-2.06 2.06-.94-2.06-.94-.94-2.06-.94 2.06-2.06.94z\"/><path d=\"M17.41 7.96l-1.37-1.37c-.4-.4-.92-.59-1.43-.59-.52 0-1.04.2-1.43.59L10.3 9.45l-7.72 7.72c-.78.78-.78 2.05 0 2.83L4 21.41c.39.39.9.59 1.41.59.51 0 1.02-.2 1.41-.59l7.78-7.78 2.81-2.81c.8-.78.8-2.07 0-2.86zM5.41 20L4 18.59l7.72-7.72 1.47 1.35L5.41 20z\"/>\n",
              "  </svg>\n",
              "      </button>\n",
              "      \n",
              "  <style>\n",
              "    .colab-df-container {\n",
              "      display:flex;\n",
              "      flex-wrap:wrap;\n",
              "      gap: 12px;\n",
              "    }\n",
              "\n",
              "    .colab-df-convert {\n",
              "      background-color: #E8F0FE;\n",
              "      border: none;\n",
              "      border-radius: 50%;\n",
              "      cursor: pointer;\n",
              "      display: none;\n",
              "      fill: #1967D2;\n",
              "      height: 32px;\n",
              "      padding: 0 0 0 0;\n",
              "      width: 32px;\n",
              "    }\n",
              "\n",
              "    .colab-df-convert:hover {\n",
              "      background-color: #E2EBFA;\n",
              "      box-shadow: 0px 1px 2px rgba(60, 64, 67, 0.3), 0px 1px 3px 1px rgba(60, 64, 67, 0.15);\n",
              "      fill: #174EA6;\n",
              "    }\n",
              "\n",
              "    [theme=dark] .colab-df-convert {\n",
              "      background-color: #3B4455;\n",
              "      fill: #D2E3FC;\n",
              "    }\n",
              "\n",
              "    [theme=dark] .colab-df-convert:hover {\n",
              "      background-color: #434B5C;\n",
              "      box-shadow: 0px 1px 3px 1px rgba(0, 0, 0, 0.15);\n",
              "      filter: drop-shadow(0px 1px 2px rgba(0, 0, 0, 0.3));\n",
              "      fill: #FFFFFF;\n",
              "    }\n",
              "  </style>\n",
              "\n",
              "      <script>\n",
              "        const buttonEl =\n",
              "          document.querySelector('#df-e8b0a99a-7ddf-4c06-a120-00b02a3346fb button.colab-df-convert');\n",
              "        buttonEl.style.display =\n",
              "          google.colab.kernel.accessAllowed ? 'block' : 'none';\n",
              "\n",
              "        async function convertToInteractive(key) {\n",
              "          const element = document.querySelector('#df-e8b0a99a-7ddf-4c06-a120-00b02a3346fb');\n",
              "          const dataTable =\n",
              "            await google.colab.kernel.invokeFunction('convertToInteractive',\n",
              "                                                     [key], {});\n",
              "          if (!dataTable) return;\n",
              "\n",
              "          const docLinkHtml = 'Like what you see? Visit the ' +\n",
              "            '<a target=\"_blank\" href=https://colab.research.google.com/notebooks/data_table.ipynb>data table notebook</a>'\n",
              "            + ' to learn more about interactive tables.';\n",
              "          element.innerHTML = '';\n",
              "          dataTable['output_type'] = 'display_data';\n",
              "          await google.colab.output.renderOutput(dataTable, element);\n",
              "          const docLink = document.createElement('div');\n",
              "          docLink.innerHTML = docLinkHtml;\n",
              "          element.appendChild(docLink);\n",
              "        }\n",
              "      </script>\n",
              "    </div>\n",
              "  </div>\n",
              "  "
            ]
          },
          "metadata": {},
          "execution_count": 7
        }
      ]
    },
    {
      "cell_type": "code",
      "source": [
        "user_item_matrix.isnull().sum().sum()"
      ],
      "metadata": {
        "colab": {
          "base_uri": "https://localhost:8080/"
        },
        "id": "Av8fFvrtun5k",
        "outputId": "b90d46f2-9a13-43e3-a492-2e23a882e3ad"
      },
      "execution_count": null,
      "outputs": [
        {
          "output_type": "execute_result",
          "data": {
            "text/plain": [
              "313796180"
            ]
          },
          "metadata": {},
          "execution_count": 7
        }
      ]
    },
    {
      "cell_type": "code",
      "source": [
        "user_item_matrix.notnull().sum().sum()"
      ],
      "metadata": {
        "colab": {
          "base_uri": "https://localhost:8080/"
        },
        "id": "5Js3OnCnu8Vz",
        "outputId": "25ae333a-856c-4354-beff-537486e058c0"
      },
      "execution_count": null,
      "outputs": [
        {
          "output_type": "execute_result",
          "data": {
            "text/plain": [
              "50000"
            ]
          },
          "metadata": {},
          "execution_count": 8
        }
      ]
    },
    {
      "cell_type": "markdown",
      "source": [
        "The above results indicate that there are a large number of missing values. Having a significant number of missing values can affect the accuracy and performance of your recommendation system as missing values can introduce biases and impact the similarity calculations and recommendation generation process. "
      ],
      "metadata": {
        "id": "TVU_x5dTe_r3"
      }
    },
    {
      "cell_type": "markdown",
      "source": [
        "* **Use Sparse Matrix Representation**: Instead of converting the user-item matrix to a dense matrix, you can utilize sparse matrix representations. Sparse matrices store only non-zero values, reducing memory usage and computational overhead. Libraries like SciPy provide efficient data structures for working with sparse matrices."
      ],
      "metadata": {
        "id": "YAxrQVLofkc9"
      }
    },
    {
      "cell_type": "code",
      "source": [
        "# create a mapping from unique customer IDs and Movie IDs to indices\n",
        "customer_ids = sample['CustId'].unique()\n",
        "customer_id_to_index = {id: index for index, id in enumerate(customer_ids)}\n",
        "\n",
        "movie_ids = sample['MovieId'].unique()\n",
        "movie_id_to_index = {id: index for index, id in enumerate(movie_ids)}\n",
        "\n",
        "# get the indices for the sparse matrix\n",
        "row_indices = np.array([customer_id_to_index[id] for id in sample['CustId']])\n",
        "col_indices = np.array([movie_id_to_index[id] for id in sample['MovieId']])\n",
        "ratings = np.array(sample['Rating'])\n",
        "\n",
        "# create the sparse matrix\n",
        "sparse_matrix = csr_matrix((ratings, (row_indices, col_indices)), shape=(len(customer_ids), len(movie_ids)))"
      ],
      "metadata": {
        "id": "2ZYT3QMWe-u4"
      },
      "execution_count": null,
      "outputs": []
    },
    {
      "cell_type": "markdown",
      "source": [
        "## Questions\n",
        "\n",
        "1. How is the similarity between users or items determmined in collaborative filtering?\n",
        "2. Once you have identified similar users, how do you predict the rating that a user would give to an item based on the ratings of those similar users?\n",
        "3. How is the accuracy of the calculated ratings measured in collaborative filtering?"
      ],
      "metadata": {
        "id": "YbnAmSsJJ2XW"
      }
    },
    {
      "cell_type": "markdown",
      "source": [
        "## Types of Algorithms to Build collaborative filtering recommender systems \n",
        "\n",
        "There are basically four type of algorithms (techniques) to build collaborative filtering based recommender systems.\n"
      ],
      "metadata": {
        "id": "yaTefLshcDhY"
      }
    },
    {
      "cell_type": "markdown",
      "source": [
        "### 1. Memory-Based Collaborative filtering\n",
        "\n",
        "Memory-based algorithms directly use the user-item interaction data to compute similarities between users or items. These algorithms include **User-Based Collaborative Filtering** (UBCF) and **Item-Based Collaborative Filtering** (IBCF). UBCF computes similarities between users based on their ratings and recommends items liked by similar users. IBCF, on the other hand, computes similarities between items and recommends similar items to those a user has interacted with.\n",
        "\n",
        "#### How does it work?\n",
        "\n",
        "The aim is to predict the rating that a user **U** would give an item **I**, and the algorithm follows the following steps:\n",
        "\n",
        "<ul>\n",
        "<li>Finding the users similar to U who have rated to item I:</li>\n",
        "<p> The algorithm searches for users who have similar rating patterns to user U and have also rated item I. The similarity between users can be determined using various similarity measures such as cosine similarity or Pearson correlation.</p>\n",
        "<li> Calculating the rating R based on the ratings of similar users</li>\n",
        "<p>Once similar users who have rated item I are identified, the algorithm combines their ratings to estimate the ratings R that user U would give to item I. This can be done through techniques such as weighted averaging, where the ratings of similar users are weighted based on their similarity to user U. The weights can be determined using the similarity scores."
      ],
      "metadata": {
        "id": "SIP8EsSWKq0c"
      }
    },
    {
      "cell_type": "code",
      "source": [
        "# similarity calculation  using cosine similarity \n",
        "user_similarities = cosine_similarity(sparse_matrix)"
      ],
      "metadata": {
        "id": "2FXkz47mVV7o"
      },
      "execution_count": null,
      "outputs": []
    },
    {
      "cell_type": "markdown",
      "source": [
        "* The resulting ```user_similarities``` matrix will have dimensions (num_users, num_users)\n",
        "* Each element [i, j] represents the similarity between user i and user j\n"
      ],
      "metadata": {
        "id": "3hxyq2a7Pr2q"
      }
    },
    {
      "cell_type": "code",
      "source": [
        "# Example \n",
        "target_user_index = 0  # Index of the target user\n",
        "\n",
        "# Get the similarities of the target user with other users\n",
        "similarities_with_target_user = user_similarities[target_user_index]\n",
        "\n",
        "# Print the similarities of the target user with other users\n",
        "print(similarities_with_target_user)"
      ],
      "metadata": {
        "colab": {
          "base_uri": "https://localhost:8080/"
        },
        "id": "KYI5urg_PrjD",
        "outputId": "03633ec2-9200-4068-e4e0-f0c62c4f2870"
      },
      "execution_count": null,
      "outputs": [
        {
          "output_type": "stream",
          "name": "stdout",
          "text": [
            "[1. 0. 0. ... 0. 0. 0.]\n"
          ]
        }
      ]
    },
    {
      "cell_type": "markdown",
      "source": [
        "Similarity score ranges from 0 to 1, where 0 indicates no similarity and 1 indicates maximum similarity. "
      ],
      "metadata": {
        "id": "WLynpfMHTJdV"
      }
    },
    {
      "cell_type": "markdown",
      "source": [
        "#### Calculate the predicted rating for a target user (or item) based on the ratings of those similar users.\n",
        "One common approach is to use weighted averages or weighted sums of the ratings provided by similar users. The idea is to give more weight to the ratings of users who are more similar to the target user.\n",
        "\n",
        "Here's a general outline of the steps involved in calculating the predicted rating R for a target user:\n",
        "\n",
        "1. Identify a set of similar users to the target user based on some similarity measure (e.g., cosine similarity).\n",
        "2. Retrieve the ratings of those similar users for the item of interest.\n",
        "3. Assign weights to the ratings of the similar users, where the weights reflect their similarity to the target user.\n",
        "4. Calculate the predicted rating R by taking a weighted average or weighted sum of the ratings, using the weights obtained in the previous step."
      ],
      "metadata": {
        "id": "6NY2D0KTTxpL"
      }
    },
    {
      "cell_type": "code",
      "source": [
        "# Index of the target user\n",
        "target_user_index = 0 \n",
        " \n",
        "# Number of similar users to consider\n",
        "k = 100  \n",
        "\n",
        "# Sort the similarity scores in descending order and get the indices of the top k similar users\n",
        "similar_users_indices = np.argsort(user_similarities[target_user_index])[::-1][:k]\n",
        "\n",
        "# Print the indices of similar users\n",
        "print(similar_users_indices)"
      ],
      "metadata": {
        "colab": {
          "base_uri": "https://localhost:8080/"
        },
        "id": "WMAG0WQuQANr",
        "outputId": "bfbd062f-b17f-45ab-b049-702676bbb3c7"
      },
      "execution_count": null,
      "outputs": [
        {
          "output_type": "stream",
          "name": "stdout",
          "text": [
            "[    0  8038 24814  2879 14487 14494 14493 14492 14491 14490 14489 14488\n",
            " 14486 14485 14484 14483 14482 14481 14480 14479 14478 14495 14496 14476\n",
            " 14507 14515 14514 14513 14512 14511 14510 14509 14508 14506 14497 14505\n",
            " 14504 14503 14502 14501 14500 14499 14498 14477 14475 14517 14454 14452\n",
            " 14451 14450 14449 14448 14447 14446 14445 14444 14443 14442 14441 14440\n",
            " 14439 14438 14437 14436 14453 14455 14474 14456 14473 14472 14471 14470\n",
            " 14469 14468 14467 14466 14465 14464 14463 14462 14461 14460 14459 14458\n",
            " 14457 14516 14518 14434 14571 14579 14578 14577 14576 14575 14574 14573\n",
            " 14572 14570 14519 14569]\n"
          ]
        }
      ]
    },
    {
      "cell_type": "code",
      "source": [
        "# Retrieve the IDs of similar users\n",
        "similar_users_ids = [customer_ids[index] for index in similar_users_indices]\n",
        "\n",
        "# Print the IDs of similar users\n",
        "print(similar_users_ids)"
      ],
      "metadata": {
        "colab": {
          "base_uri": "https://localhost:8080/"
        },
        "id": "SEAlPJ9Ucwjj",
        "outputId": "f8f306cf-23cb-42d8-a673-083504c5ce6c"
      },
      "execution_count": null,
      "outputs": [
        {
          "output_type": "stream",
          "name": "stdout",
          "text": [
            "[290740, 102706, 771641, 1801373, 1124396, 2428223, 151666, 56349, 762423, 1518179, 1589357, 361630, 1823627, 2592591, 123737, 2187498, 2015312, 1568715, 782571, 2277086, 929377, 1551848, 863081, 2017088, 389219, 24946, 1812060, 165653, 20040, 1913820, 1622041, 2043617, 610174, 1509735, 1518269, 760570, 2128119, 813594, 1723162, 727010, 1684478, 2159363, 1279601, 126913, 482433, 2519294, 648585, 1137944, 1431879, 206844, 2441398, 1812261, 2229453, 1961109, 1161417, 1349773, 425581, 2490772, 470999, 2051892, 1526618, 2355363, 898161, 2449648, 176392, 357522, 2505656, 440983, 2439223, 2090127, 2110330, 276678, 1479892, 1514136, 1149786, 2010093, 1062070, 2341465, 2451203, 2011398, 1580437, 2070371, 1159919, 1628608, 1306734, 1892671, 504620, 2541384, 2247237, 1301223, 881562, 2228502, 413982, 936113, 1898882, 2322355, 2127998, 1710338, 1389451, 458562]\n"
          ]
        }
      ]
    },
    {
      "cell_type": "code",
      "source": [
        "print(movie_ids)"
      ],
      "metadata": {
        "colab": {
          "base_uri": "https://localhost:8080/"
        },
        "id": "52nlGesrWzMT",
        "outputId": "348561f9-9ec7-45ff-bb8f-d79eabe33dbb"
      },
      "execution_count": null,
      "outputs": [
        {
          "output_type": "stream",
          "name": "stdout",
          "text": [
            "[11121   257  7780 ...  6201 10696  5757]\n"
          ]
        }
      ]
    },
    {
      "cell_type": "code",
      "source": [
        "item_id = 11121  # Item ID of interest (e.g., movie ID)\n",
        "\n",
        "# Check if the item ID exists in the dictionary\n",
        "if item_id in movie_id_to_index:\n",
        "    # Get the index of the item\n",
        "    item_index = movie_id_to_index[item_id]\n",
        "\n",
        "    # Retrieve the ratings of similar users for the item of interest\n",
        "    item_ratings = []\n",
        "    for user_index in similar_users_indices:\n",
        "        if sparse_matrix[user_index, item_index] != 0:\n",
        "            item_ratings.append(sparse_matrix[user_index, item_index])\n",
        "\n",
        "    # Print the ratings of similar users for the item\n",
        "    if item_ratings:\n",
        "        print(item_ratings)\n",
        "    else:\n",
        "        print(\"No ratings found for the item.\")\n",
        "else:\n",
        "    print(\"Item ID not found in the dictionary.\")"
      ],
      "metadata": {
        "colab": {
          "base_uri": "https://localhost:8080/"
        },
        "id": "pc0KnRCxUXme",
        "outputId": "28826b0c-dcc6-420c-de01-cd8b7ee182be"
      },
      "execution_count": null,
      "outputs": [
        {
          "output_type": "stream",
          "name": "stdout",
          "text": [
            "[4, 4, 4, 5]\n"
          ]
        }
      ]
    },
    {
      "cell_type": "code",
      "source": [
        "item_id = 11121  \n",
        "\n",
        "# Check if the item ID exists in the dictionary\n",
        "if item_id in movie_id_to_index:\n",
        "    # Get the index of the item\n",
        "    item_index = movie_id_to_index[item_id]\n",
        "\n",
        "    # Retrieve the ratings of similar users for the item of interest\n",
        "    weighted_ratings = []\n",
        "    for user_index in similar_users_indices:\n",
        "        if sparse_matrix[user_index, item_index] != 0:\n",
        "            similarity = user_similarities[target_user_index, user_index]\n",
        "            rating = sparse_matrix[user_index, item_index]\n",
        "            weighted_rating = rating * similarity\n",
        "            weighted_ratings.append(weighted_rating)\n",
        "\n",
        "    # Print the ratings of similar users for the item\n",
        "    if weighted_rating:\n",
        "        print(weighted_ratings)\n",
        "    else:\n",
        "        print(\"No ratings found for the item.\")\n",
        "else:\n",
        "    print(\"Item ID not found in the dictionary.\")"
      ],
      "metadata": {
        "colab": {
          "base_uri": "https://localhost:8080/"
        },
        "id": "kzqKsaIrVAhV",
        "outputId": "1c2105c1-9d8a-4eef-a68c-d2ecf0a08874"
      },
      "execution_count": null,
      "outputs": [
        {
          "output_type": "stream",
          "name": "stdout",
          "text": [
            "[4.0, 4.0, 4.0, 2.8867513459481287]\n"
          ]
        }
      ]
    },
    {
      "cell_type": "code",
      "source": [
        "item_id = 11121  # Item ID of interest (e.g., movie ID)\n",
        "\n",
        "# Check if the item ID exists in the dictionary\n",
        "if item_id in movie_id_to_index:\n",
        "    # Get the index of the item\n",
        "    item_index = movie_id_to_index[item_id]\n",
        "\n",
        "    # Retrieve the ratings of similar users for the item of interest\n",
        "    weighted_ratings = []\n",
        "    total_similarity = 0  # Variable to keep track of the total similarity\n",
        "\n",
        "    for user_index in similar_users_indices:\n",
        "        if sparse_matrix[user_index, item_index] != 0:\n",
        "            similarity = user_similarities[target_user_index, user_index]\n",
        "            rating = sparse_matrix[user_index, item_index]\n",
        "            weighted_rating = rating * similarity\n",
        "            weighted_ratings.append(weighted_rating)\n",
        "            total_similarity += similarity\n",
        "\n",
        "    # Calculate the predicted rating by taking the weighted average\n",
        "    if weighted_ratings:\n",
        "        predicted_rating = sum(weighted_ratings) / total_similarity\n",
        "        print(\"Predicted rating:\", predicted_rating)\n",
        "    else:\n",
        "        print(\"No ratings found for the item.\")\n",
        "else:\n",
        "    print(\"Item ID not found in the dictionary.\")\n"
      ],
      "metadata": {
        "colab": {
          "base_uri": "https://localhost:8080/"
        },
        "id": "76GiJV_od82L",
        "outputId": "57c7af3a-ff5f-4ca3-917e-ee76916004eb"
      },
      "execution_count": null,
      "outputs": [
        {
          "output_type": "stream",
          "name": "stdout",
          "text": [
            "Predicted rating: 4.1613904777964095\n"
          ]
        }
      ]
    },
    {
      "cell_type": "code",
      "source": [],
      "metadata": {
        "id": "0G315jncbgU7"
      },
      "execution_count": null,
      "outputs": []
    }
  ]
}